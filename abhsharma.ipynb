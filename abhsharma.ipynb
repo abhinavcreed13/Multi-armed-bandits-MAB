{
 "cells": [
  {
   "cell_type": "markdown",
   "metadata": {
    "colab_type": "text",
    "id": "2RM-jwrRDFw9"
   },
   "source": [
    "# Multi-armed bandits (MAB) implementation"
   ]
  },
  {
   "cell_type": "code",
   "execution_count": 41,
   "metadata": {
    "colab": {},
    "colab_type": "code",
    "id": "_l9AhBsJDFw-"
   },
   "outputs": [],
   "source": [
    "# Do not edit. These are the only imports permitted.\n",
    "%matplotlib inline\n",
    "import numpy as np\n",
    "from numpy.linalg import inv\n",
    "import matplotlib.pyplot as plt\n",
    "from abc import ABC, abstractmethod"
   ]
  },
  {
   "cell_type": "markdown",
   "metadata": {
    "colab_type": "text",
    "id": "fMCitxQtDFxC"
   },
   "source": [
    "## 1. Implementing ε-Greedy and UCB"
   ]
  },
  {
   "cell_type": "code",
   "execution_count": 42,
   "metadata": {
    "colab": {},
    "colab_type": "code",
    "id": "9WtlOOYhDFxC"
   },
   "outputs": [],
   "source": [
    "class MAB(ABC):\n",
    "    \"\"\"\n",
    "    Abstract class that represents a multi-armed bandit (MAB)\n",
    "    \"\"\"\n",
    "    \n",
    "    @abstractmethod\n",
    "    def play(self, tround, context):\n",
    "        \"\"\"\n",
    "        Play a round\n",
    "        \n",
    "        Arguments\n",
    "        =========\n",
    "        tround : int\n",
    "            positive integer identifying the round\n",
    "        \n",
    "        context : 1D float array, shape (self.ndims * self.narms), optional\n",
    "            context given to the arms\n",
    "        \n",
    "        Returns\n",
    "        =======\n",
    "        arm : int\n",
    "            the positive integer arm id for this round\n",
    "        \"\"\"\n",
    "    \n",
    "    @abstractmethod\n",
    "    def update(self, arm, reward, context):\n",
    "        \"\"\"\n",
    "        Updates the internal state of the MAB after a play\n",
    "        \n",
    "        Arguments\n",
    "        =========\n",
    "        arm : int\n",
    "            a positive integer arm id in {1, ..., self.narms}\n",
    "        \n",
    "        reward : float\n",
    "            reward received from arm\n",
    "        \n",
    "        context : 1D float array, shape (self.ndims * self.narms), optional\n",
    "            context given to arms\n",
    "        \"\"\""
   ]
  },
  {
   "cell_type": "code",
   "execution_count": 43,
   "metadata": {
    "colab": {},
    "colab_type": "code",
    "id": "QwGoY29VDFxG"
   },
   "outputs": [],
   "source": [
    "class EpsGreedy(MAB):\n",
    "    \"\"\"\n",
    "    Epsilon-Greedy multi-armed bandit\n",
    "\n",
    "    Arguments\n",
    "    =========\n",
    "    narms : int\n",
    "        number of arms\n",
    "\n",
    "    epsilon : float\n",
    "        explore probability\n",
    "\n",
    "    Q0 : float, optional\n",
    "        initial value for the arms\n",
    "    \"\"\"\n",
    "    \n",
    "    def __init__(self, narms, epsilon, Q0=np.inf):\n",
    "      \n",
    "        # basic input checks\n",
    "        assert type(narms) is int, 'input type int required for narms'\n",
    "        assert type(epsilon) is float, 'input type float required for epsilon'\n",
    "        assert type(Q0) is float, 'input type float required for epsilon'\n",
    "        assert narms > 0, \"number of arms should be greater than 0\"\n",
    "        assert 0 <= epsilon <= 1, \"epsilon should be in [0,1] range\"\n",
    "        \n",
    "        # initilize MAB parameters\n",
    "        self.narms = narms\n",
    "        self.epsilon = epsilon\n",
    "        self.Q0 = Q0\n",
    "        \n",
    "        # initilize MAB state\n",
    "        self.arm_selection = np.zeros(narms)\n",
    "        self.arm_rewards_collected = np.zeros(narms)\n",
    "        \n",
    "    def play(self, tround, context=None):\n",
    "        # exploitation vs exploration\n",
    "        \n",
    "        # setting seed to reproduce results reliably\n",
    "        np.random.seed(10007)\n",
    "        if np.random.random() > self.epsilon:\n",
    "            \n",
    "            # exploit arm\n",
    "            bounds = [0] * self.narms\n",
    "            \n",
    "            for arm in range(0,self.narms):\n",
    "              \n",
    "                # check if arm is selected once or not\n",
    "                if self.arm_selection[arm] == 0:\n",
    "                  \n",
    "                    # arm is still not selected - set average reward to Q0\n",
    "                    bounds[arm] = self.Q0\n",
    "                else:\n",
    "                  \n",
    "                    # arm is selected at least once\n",
    "                    arm_reward = self.arm_rewards_collected[arm]\n",
    "                    arm_selection = self.arm_selection[arm]\n",
    "                    \n",
    "                    # calculate current average reward for the arm\n",
    "                    bounds[arm] = arm_reward/arm_selection\n",
    "                    \n",
    "            # getting maximum average reward providing arm\n",
    "            maximum_bound = np.max(bounds)\n",
    "            \n",
    "            # handling tie-breaking using uniformly-at-random selection\n",
    "            # setting seed to reproduce results reliably\n",
    "            np.random.seed(10007)\n",
    "            arm_to_play = np.random.choice(np.where(bounds==maximum_bound)[0],1)[0]\n",
    "            \n",
    "            # returning an arm integer in {1,...,self.narms}\n",
    "            return arm_to_play+1\n",
    "        else:\n",
    "            # explore arms\n",
    "            \n",
    "            # randomly picking arm from 0-9\n",
    "            # setting seed to reproduce results reliably\n",
    "            np.random.seed(10007)\n",
    "            arm_to_play = np.random.randint(self.narms-1)\n",
    "            \n",
    "            # returning an arm integer in {1,...,self.narms}\n",
    "            return arm_to_play+1\n",
    "        \n",
    "    def update(self, arm, reward, context=None):\n",
    "        # update played arm\n",
    "        \n",
    "        # verifying arm input\n",
    "        assert arm <= self.narms, \"arm is larger than property narms\"\n",
    "        \n",
    "        # Get arm index\n",
    "        arm_idx = arm-1\n",
    "        \n",
    "        # update state of played arm\n",
    "        self.arm_selection[arm_idx] = self.arm_selection[arm_idx] + 1\n",
    "        self.arm_rewards_collected[arm_idx] = self.arm_rewards_collected[arm_idx] + reward"
   ]
  },
  {
   "cell_type": "code",
   "execution_count": 44,
   "metadata": {
    "colab": {},
    "colab_type": "code",
    "id": "xJ8MLdDdDFxJ"
   },
   "outputs": [],
   "source": [
    "class UCB(MAB):\n",
    "    \"\"\"\n",
    "    Upper Confidence Bound (UCB) multi-armed bandit\n",
    "\n",
    "    Arguments\n",
    "    =========\n",
    "    narms : int\n",
    "        number of arms\n",
    "\n",
    "    rho : float\n",
    "        positive real explore-exploit parameter\n",
    "\n",
    "    Q0 : float, optional\n",
    "        initial value for the arms\n",
    "    \"\"\"\n",
    "    \n",
    "    def __init__(self, narms, rho, Q0=np.inf):\n",
    "      \n",
    "        # basic input checks\n",
    "        assert type(narms) is int, 'input type int required for narms'\n",
    "        assert type(rho) is float, 'input type float required for rho'\n",
    "        assert type(Q0) is float, 'input type float required for epsilon'\n",
    "        assert narms > 0, \"number of arms should be greater than 0\"\n",
    "        assert rho > 0, \"rho should be greater than 0\"\n",
    "      \n",
    "        # initilize MAB parameters\n",
    "        self.narms = narms\n",
    "        self.rho = rho\n",
    "        self.Q0 = Q0\n",
    "        \n",
    "        # initilize MAB state\n",
    "        self.arm_selection = np.zeros(narms)\n",
    "        self.arm_rewards_collected = np.zeros(narms)\n",
    "\n",
    "    def play(self, tround, context=None):\n",
    "        # initilize play parameter\n",
    "        bounds = [0] * self.narms\n",
    "        \n",
    "        # verify tround parameter\n",
    "        assert tround > 0, \"tround should be greater than 0\"\n",
    "        \n",
    "        # calculate upper bounds for each arm\n",
    "        for arm in range(0,self.narms):\n",
    "          \n",
    "            # check if arm is selected once or not\n",
    "            if self.arm_selection[arm] == 0:\n",
    "              \n",
    "                # arm is still not selected - set average reward to Q0\n",
    "                bounds[arm] = self.Q0\n",
    "            else:\n",
    "              \n",
    "                # arm is selected at least once\n",
    "                arm_reward = self.arm_rewards_collected[arm]\n",
    "                arm_selection = self.arm_selection[arm]\n",
    "                \n",
    "                # calculate Upper Confidence Bound(UCB) for the arm\n",
    "                average_reward = arm_reward/arm_selection\n",
    "                delta = np.sqrt(self.rho*(np.log(tround)/arm_selection))\n",
    "                bounds[arm] = average_reward + delta\n",
    "\n",
    "        # getting maximum Upper Confidence Bound(UCB) providing arm\n",
    "        maximum_bound = np.max(bounds)\n",
    "            \n",
    "        # handling tie-breaking using uniformly-at-random selection\n",
    "        # setting seed to reproduce results reliably\n",
    "        np.random.seed(20003)\n",
    "        arm_to_play = np.random.choice(np.where(bounds==maximum_bound)[0],1)[0]\n",
    "            \n",
    "        # returning an arm integer in {1,...,self.narms}\n",
    "        return arm_to_play+1\n",
    "        \n",
    "    def update(self, arm, reward, context=None):\n",
    "        # update played arm\n",
    "        \n",
    "        # verifying arm input\n",
    "        assert arm <= self.narms, \"arm is larger than property narms\"\n",
    "        \n",
    "        # Getting arm index\n",
    "        arm_idx = arm-1\n",
    "        \n",
    "        # update state of played arm\n",
    "        self.arm_selection[arm_idx] = self.arm_selection[arm_idx] + 1\n",
    "        self.arm_rewards_collected[arm_idx] = self.arm_rewards_collected[arm_idx] + reward"
   ]
  },
  {
   "cell_type": "markdown",
   "metadata": {
    "colab_type": "text",
    "id": "QyMzEy4dDFxM"
   },
   "source": [
    "## 2. The Basic Thompson Bandit"
   ]
  },
  {
   "cell_type": "code",
   "execution_count": 45,
   "metadata": {
    "colab": {},
    "colab_type": "code",
    "id": "51EzB_cYDFxN"
   },
   "outputs": [],
   "source": [
    "class BetaThompson(MAB):\n",
    "    \"\"\"\n",
    "    Beta-Bernoulli Thompson sampling multi-armed bandit\n",
    "\n",
    "    Arguments\n",
    "    =========\n",
    "    narms : int\n",
    "        number of arms\n",
    "\n",
    "    alpha0 : float, optional\n",
    "        positive real prior hyperparameter\n",
    "\n",
    "    beta0 : float, optional\n",
    "        positive real prior hyperparameter\n",
    "    \"\"\"\n",
    "    \n",
    "    def __init__(self, narms, alpha0=1.0, beta0=1.0):\n",
    "      \n",
    "        # basic input checks\n",
    "        assert type(narms) is int, 'input type int required for narms'\n",
    "        assert type(alpha0) is float, 'input type float required for alpha0'\n",
    "        assert type(beta0) is float, 'input type float required for beta0'\n",
    "        assert narms > 0, \"number of arms should be greater than 0\"\n",
    "        assert alpha0 > 0, \"alpha0 should be greater than 0\"\n",
    "        assert beta0 > 0, \"alpha0 should be greater than 0\"\n",
    "        \n",
    "        # initilize MAB parameters\n",
    "        self.narms = narms\n",
    "        self.alpha0 = alpha0\n",
    "        self.beta0 = beta0\n",
    "        \n",
    "        # initilize MAB state\n",
    "        self.observed_successes = [0] * narms\n",
    "        self.observed_failures = [0] * narms\n",
    "    \n",
    "    def play(self, tround, context=None):\n",
    "        # initilize play parameters\n",
    "        samples = [0] * self.narms\n",
    "        \n",
    "        for arm in range(0,self.narms):\n",
    "            # get observed success for the arm\n",
    "            S_i = self.observed_successes[arm]\n",
    "            \n",
    "            # get observed failure for the arm\n",
    "            F_i = self.observed_failures[arm]\n",
    "            \n",
    "            # generate sample from beta distribution\n",
    "            # setting seed to reproduce results reliably\n",
    "            np.random.seed(30005)\n",
    "            samples[arm] = np.random.beta(S_i + self.alpha0, F_i + self.beta0)\n",
    "\n",
    "        # get value-maximising arm from generated samples\n",
    "        maximum_sample_value = np.max(samples)\n",
    "            \n",
    "        # handle tie-breaking using uniformly-at-random selection\n",
    "        # setting seed to reproduce results reliably\n",
    "        np.random.seed(30005)\n",
    "        arm_to_play = np.random.choice(np.where(samples==maximum_sample_value)[0],1)[0]\n",
    "            \n",
    "        # returning an arm integer in {1,...,self.narms}\n",
    "        return arm_to_play+1\n",
    "        \n",
    "    def update(self, arm, reward, context=None):\n",
    "        # update played arm\n",
    "        \n",
    "        # verifying arm input\n",
    "        assert arm <= self.narms, \"arm is larger than property narms\"\n",
    "        \n",
    "        # Getting arm index\n",
    "        arm_idx = arm-1\n",
    "        \n",
    "        # checking reward\n",
    "        if reward==1:\n",
    "            # update success if reward is observed\n",
    "            self.observed_successes[arm_idx] = self.observed_successes[arm_idx] + 1\n",
    "        else:\n",
    "            # update failure if reward is not observed\n",
    "            self.observed_failures[arm_idx] = self.observed_failures[arm_idx] + 1"
   ]
  },
  {
   "cell_type": "markdown",
   "metadata": {
    "colab_type": "text",
    "id": "XM7k3BicDFxQ"
   },
   "source": [
    "## 3. Off-Policy Evaluation"
   ]
  },
  {
   "cell_type": "code",
   "execution_count": 46,
   "metadata": {
    "colab": {},
    "colab_type": "code",
    "id": "vdN0VFigDFxQ"
   },
   "outputs": [],
   "source": [
    "def offlineEvaluate(mab, arms, rewards, contexts, nrounds=None):\n",
    "    \"\"\"\n",
    "    Offline evaluation of a multi-armed bandit\n",
    "    \n",
    "    Arguments\n",
    "    =========\n",
    "    mab : instance of MAB\n",
    "    \n",
    "    arms : 1D int array, shape (nevents,) \n",
    "        integer arm id for each event\n",
    "    \n",
    "    rewards : 1D float array, shape (nevents,)\n",
    "        reward received for each event\n",
    "    \n",
    "    contexts : 2D float array, shape (nevents, mab.narms*nfeatures)\n",
    "        contexts presented to the arms (stacked horizontally) \n",
    "        for each event.\n",
    "        \n",
    "    nrounds : int, optional\n",
    "        number of matching events to evaluate `mab` on.\n",
    "    \n",
    "    Returns\n",
    "    =======\n",
    "    out : 1D float array\n",
    "        rewards for the matching events\n",
    "    \"\"\"\n",
    "    \n",
    "    # basic input checks to ensure everything works after assertions are passed\n",
    "    assert isinstance(mab,MAB), 'MAB instance required'\n",
    "    assert type(arms) is np.ndarray, 'arms should be numpy array'\n",
    "    assert type(rewards) is np.ndarray, 'rewards should be numpy array'\n",
    "    assert type(contexts) is np.ndarray, 'contexts should be numpy array'\n",
    "    if nrounds is not None:\n",
    "        assert type(nrounds) is int, 'input type int required for nrounds'\n",
    "        assert nrounds > 0, 'nrounds should be greater than 0'\n",
    "    assert 'int' in str(arms.dtype), 'arms should be int numpy array'\n",
    "    assert 'float' in str(rewards.dtype), 'rewards should be float numpy array'\n",
    "    assert 'float' in str(contexts.dtype), 'contexts should be float numpy array'\n",
    "    assert arms.ndim == 1, 'arms should be 1D numpy array (nevents,) '\n",
    "    assert rewards.ndim == 1, 'rewards should be 1D numpy array (nevents,)'\n",
    "    assert contexts.ndim == 2, 'contexts should be 2D numpy array (nevents, mab.narms*nfeatures)'\n",
    "\n",
    "    # initially empty history\n",
    "    history = []\n",
    "    \n",
    "    # initially empty payoff\n",
    "    out = []\n",
    "    \n",
    "    # get total number of events\n",
    "    T = arms.shape[0]\n",
    "    \n",
    "    # ensuring there are events to evaluate\n",
    "    assert T > 0, \"There are no events for offline evaluation\"\n",
    "    \n",
    "    # initilize control parameters\n",
    "    events_parsed = 0\n",
    "    all_events_parsed = False\n",
    "    \n",
    "    # sequentially parse stream of events\n",
    "    for t in range(0,T):\n",
    "        \n",
    "        # repeat until matching arm is found\n",
    "        while(True):\n",
    "            \n",
    "            # if all events are parsed - stop processing\n",
    "            if events_parsed == T:\n",
    "                all_events_parsed = True\n",
    "                break\n",
    "            \n",
    "            # Get next event    \n",
    "            # get selected arm\n",
    "            a = arms[events_parsed]\n",
    "            # get observed payoff for the arm\n",
    "            r_a = rewards[events_parsed]\n",
    "            # get observed context for the arm\n",
    "            context = contexts[events_parsed,:]\n",
    "            \n",
    "            # keeping track of parsed events\n",
    "            events_parsed += 1\n",
    "     \n",
    "            # set required round on the basis of history recorded\n",
    "            tround = len(history)+1\n",
    "            # play arm for tround\n",
    "            arm = mab.play(tround,context)\n",
    "            \n",
    "            # check if arm is matched or not\n",
    "            if arm == a:\n",
    "                # matching arm found - update played arm\n",
    "                mab.update(arm,r_a,context)\n",
    "                break \n",
    "        \n",
    "        # check if all events are parsed       \n",
    "        if all_events_parsed:\n",
    "            # stop processing\n",
    "            break\n",
    "            \n",
    "        # record event tuple in history for each matched round\n",
    "        event = (tround,a,r_a,context)\n",
    "        history.append(event)      \n",
    "        \n",
    "        # add observed payoff for the matched arm\n",
    "        out.append(r_a)\n",
    "        \n",
    "        # check if required rounds are reached, if provided\n",
    "        if nrounds is not None and len(history) == nrounds:\n",
    "            break\n",
    "    \n",
    "    # return per round rewards recorded\n",
    "    return out"
   ]
  },
  {
   "cell_type": "code",
   "execution_count": 47,
   "metadata": {
    "colab": {},
    "colab_type": "code",
    "id": "_76guiFIO8Tb"
   },
   "outputs": [],
   "source": [
    "# loading dataset\n",
    "dataset = np.loadtxt(\"dataset.txt\")\n",
    "\n",
    "# get arms from dataset\n",
    "arms = dataset[:,0].astype('int')\n",
    "# get rewards from dataset\n",
    "rewards = dataset[:,1].astype('float')\n",
    "# get contexts from dataset \n",
    "contexts = dataset[:,2:].astype('float')"
   ]
  },
  {
   "cell_type": "code",
   "execution_count": 48,
   "metadata": {
    "colab": {
     "base_uri": "https://localhost:8080/",
     "height": 35
    },
    "colab_type": "code",
    "id": "6_j1MmxSDFxT",
    "outputId": "ad4c02ab-3705-451c-fe4e-d9530a9656b7"
   },
   "outputs": [
    {
     "name": "stdout",
     "output_type": "stream",
     "text": [
      "EpsGreedy average reward 0.145\n"
     ]
    }
   ],
   "source": [
    "mab = EpsGreedy(10, 0.05)\n",
    "results_EpsGreedy = offlineEvaluate(mab, arms, rewards, contexts, 800)\n",
    "print('EpsGreedy average reward', np.mean(results_EpsGreedy))"
   ]
  },
  {
   "cell_type": "code",
   "execution_count": 49,
   "metadata": {
    "colab": {
     "base_uri": "https://localhost:8080/",
     "height": 35
    },
    "colab_type": "code",
    "id": "KJk_Hh_pDFxX",
    "outputId": "a18a24fc-fbd4-4122-c9f9-e38a5fe18ffc"
   },
   "outputs": [
    {
     "name": "stdout",
     "output_type": "stream",
     "text": [
      "UCB average reward 0.165\n"
     ]
    }
   ],
   "source": [
    "mab = UCB(10, 1.0)\n",
    "results_UCB = offlineEvaluate(mab, arms, rewards, contexts, 800)\n",
    "print('UCB average reward', np.mean(results_UCB))"
   ]
  },
  {
   "cell_type": "code",
   "execution_count": 50,
   "metadata": {
    "colab": {
     "base_uri": "https://localhost:8080/",
     "height": 35
    },
    "colab_type": "code",
    "id": "q5zqfGldDFxa",
    "outputId": "2ec8ba68-6743-4209-8f7e-decada1b99fe"
   },
   "outputs": [
    {
     "name": "stdout",
     "output_type": "stream",
     "text": [
      "BetaThompson average reward 0.255\n"
     ]
    }
   ],
   "source": [
    "mab = BetaThompson(10, 1.0, 1.0)\n",
    "results_BetaThompson = offlineEvaluate(mab, arms, rewards, contexts, 800)\n",
    "print('BetaThompson average reward', np.mean(results_BetaThompson))"
   ]
  },
  {
   "cell_type": "markdown",
   "metadata": {
    "colab_type": "text",
    "id": "ARytP_8eDFxc"
   },
   "source": [
    "## 4. Contextual Bandits - LinUCB"
   ]
  },
  {
   "cell_type": "code",
   "execution_count": 51,
   "metadata": {
    "colab": {},
    "colab_type": "code",
    "id": "33en3eoHDFxd"
   },
   "outputs": [],
   "source": [
    "class LinUCB(MAB):\n",
    "    \"\"\"\n",
    "    Contextual multi-armed bandit (LinUCB)\n",
    "\n",
    "    Arguments\n",
    "    =========\n",
    "    narms : int\n",
    "        number of arms\n",
    "\n",
    "    ndims : int\n",
    "        number of dimensions for each arm's context\n",
    "\n",
    "    alpha : float\n",
    "        positive real explore-exploit parameter\n",
    "    \"\"\"\n",
    "    \n",
    "    def __init__(self, narms, ndims, alpha):\n",
    "      \n",
    "        # basic input checks\n",
    "        assert type(narms) is int, 'input type int required for narms'\n",
    "        assert type(ndims) is int, 'input type int required for ndims'\n",
    "        assert type(alpha) is float, 'input type float required for alpha'\n",
    "        assert narms > 0, \"number of arms should be greater than 0\"\n",
    "        assert ndims > 0, \"ndims should be greater than 0\"\n",
    "        assert alpha > 0, \"alpha should be greater than 0\"\n",
    "        \n",
    "        # initilize MAB parameters\n",
    "        self.narms = narms\n",
    "        self.ndims = ndims\n",
    "        self.alpha = alpha\n",
    "        \n",
    "        # initilize MAB state\n",
    "        self.A_arm_param = [None] * narms\n",
    "        self.b_arm_param = [None] * narms\n",
    "        \n",
    "    def play(self, tround, context):\n",
    "        # initilize play parameters\n",
    "        bounds = [0] * self.narms\n",
    "      \n",
    "        # perform operation for all arms\n",
    "        for arm in range(0,self.narms):\n",
    "            \n",
    "            # observe features for arm in loop\n",
    "            arm_features = np.expand_dims(np.transpose(context[(arm*10):(arm*10)+10]),axis=1)\n",
    "            \n",
    "            # check if arm is new or not\n",
    "            if self.A_arm_param[arm] is None:\n",
    "              \n",
    "                # arm is new - perform initilization of A matrix and b vector for arm\n",
    "                self.A_arm_param[arm] = np.identity(self.ndims)\n",
    "                self.b_arm_param[arm] = np.zeros((self.ndims,1))\n",
    "            \n",
    "            # calculate estimate of the coefficients (theta) for the arm\n",
    "            A_arm = self.A_arm_param[arm]\n",
    "            b_arm = self.b_arm_param[arm]\n",
    "            A_arm_inv = inv(A_arm)\n",
    "            theta_hat_arm = np.dot(inv(A_arm),b_arm)\n",
    "            \n",
    "            # calculate upper confidence interval for the arm using tight UCB \n",
    "            delta = self.alpha * np.sqrt(np.dot(np.dot(np.transpose(arm_features),A_arm_inv),arm_features))\n",
    "            bounds[arm] = np.dot(np.transpose(theta_hat_arm),arm_features) + delta\n",
    "       \n",
    "        # getting maximum Upper Confidence Bound(UCB) providing arm\n",
    "        maximum_bound = np.max(bounds)\n",
    "            \n",
    "        # handling tie-breaking using uniformly-at-random selection\n",
    "        # setting seed to reproduce results reliably\n",
    "        np.random.seed(40001)\n",
    "        arm_to_play = np.random.choice(np.where(bounds==maximum_bound)[0],1)[0]\n",
    "            \n",
    "        # returning an arm integer in {1,...,self.narms}\n",
    "        return arm_to_play+1\n",
    "    \n",
    "    def update(self, arm, reward, context):\n",
    "        # update played arm\n",
    "        \n",
    "        # verifying arm input\n",
    "        assert arm <= self.narms, \"arm is larger than property narms\"\n",
    "        \n",
    "        # Getting arm index\n",
    "        arm_idx = arm-1\n",
    "        \n",
    "        # observe features for the played arm\n",
    "        arm_features = np.expand_dims(np.transpose(context[(arm_idx*10):(arm_idx*10)+10]),axis=1)\n",
    "        \n",
    "        # update state of played arm\n",
    "        self.A_arm_param[arm_idx] = self.A_arm_param[arm_idx] + np.dot(arm_features,np.transpose(arm_features))\n",
    "        self.b_arm_param[arm_idx] = self.b_arm_param[arm_idx] + reward*arm_features"
   ]
  },
  {
   "cell_type": "code",
   "execution_count": 52,
   "metadata": {
    "colab": {
     "base_uri": "https://localhost:8080/",
     "height": 35
    },
    "colab_type": "code",
    "id": "WLUI8aaEDFxg",
    "outputId": "27a0b437-95c2-4a98-afc8-8116550c7cba"
   },
   "outputs": [
    {
     "name": "stdout",
     "output_type": "stream",
     "text": [
      "LinUCB average reward 0.53\n"
     ]
    }
   ],
   "source": [
    "mab = LinUCB(10, 10, 1.0)\n",
    "results_LinUCB = offlineEvaluate(mab, arms, rewards, contexts, 800)\n",
    "print('LinUCB average reward', np.mean(results_LinUCB))"
   ]
  },
  {
   "cell_type": "markdown",
   "metadata": {
    "colab_type": "text",
    "id": "PhQkpQQ0DFxi"
   },
   "source": [
    "## 5. Contextual Bandits - LinThompson"
   ]
  },
  {
   "cell_type": "code",
   "execution_count": 53,
   "metadata": {
    "colab": {},
    "colab_type": "code",
    "id": "bHPEr77bDFxj"
   },
   "outputs": [],
   "source": [
    "class LinThompson(MAB):\n",
    "    \"\"\"\n",
    "    Contextual Thompson sampled multi-armed bandit (LinThompson)\n",
    "\n",
    "    Arguments\n",
    "    =========\n",
    "    narms : int\n",
    "        number of arms\n",
    "\n",
    "    ndims : int\n",
    "        number of dimensions for each arm's context\n",
    "\n",
    "    v : float\n",
    "        positive real explore-exploit parameter\n",
    "    \"\"\"\n",
    "    \n",
    "    def __init__(self, narms, ndims, v):\n",
    "      \n",
    "        # basic input checks\n",
    "        assert type(narms) is int, 'input type int required for narms'\n",
    "        assert type(ndims) is int, 'input type int required for ndims'\n",
    "        assert type(v) is float, 'input type float required for v'\n",
    "        assert narms > 0, \"number of arms should be greater than 0\"\n",
    "        assert ndims > 0, \"ndims should be greater than 0\"\n",
    "        assert v > 0, \"v should be greater than 0\"\n",
    "        \n",
    "        # initilize MAB parameters\n",
    "        self.narms = narms\n",
    "        self.ndims = ndims\n",
    "        self.v = v\n",
    "        \n",
    "        # initilize MAB state\n",
    "        self.B = np.identity(ndims)        # ndims x ndims\n",
    "        self.mu_hat = np.zeros((ndims,1))  # ndims x 1\n",
    "        self.f = np.zeros((ndims,1))       # ndims x 1\n",
    "        \n",
    "    def play(self, tround, context):\n",
    "        # initilize play parameters\n",
    "        bounds = [0] * self.narms\n",
    "        \n",
    "        # generate samples from multivariate normal distribution \n",
    "        mean = np.transpose(self.mu_hat)[0]\n",
    "        covariance_matrix = ((self.v)**2)*np.linalg.inv(self.B)\n",
    "        # setting seed to reproduce results reliably\n",
    "        np.random.seed(50005) # [bug] seed sometimes unreliable for multivariate normal\n",
    "        samples = np.random.multivariate_normal(mean, covariance_matrix)\n",
    "        # (ndims x 1) samples\n",
    "        sample_mu_tilde = np.expand_dims(samples,axis=1)\n",
    "        \n",
    "        # perform operation for all arms\n",
    "        for arm in range(0,self.narms):\n",
    "            \n",
    "            # get context for the arm (ndims x 1)\n",
    "            arm_context = np.expand_dims(np.transpose(context[(arm*10):(arm*10)+10]),axis=1)\n",
    "            \n",
    "            # calculate value for the arm\n",
    "            bounds[arm] = np.dot(np.transpose(arm_context),sample_mu_tilde)\n",
    "            \n",
    "        # get value-maximising arm from generated bounds\n",
    "        maximum_arm_value = np.max(bounds)\n",
    "            \n",
    "        # handle tie-breaking using uniformly-at-random selection\n",
    "        # setting seed to reproduce results reliably\n",
    "        np.random.seed(50005)\n",
    "        arm_to_play = np.random.choice(np.where(bounds==maximum_arm_value)[0],1)[0]\n",
    "            \n",
    "        # returning an arm integer in {1,...,self.narms}\n",
    "        return arm_to_play+1\n",
    "    \n",
    "    def update(self, arm, reward, context):\n",
    "        # update played arm\n",
    "        \n",
    "        # verifying arm input\n",
    "        assert arm <= self.narms, \"arm is larger than property narms\"\n",
    "        \n",
    "        # Getting arm index\n",
    "        arm_idx = arm-1\n",
    "        \n",
    "        # get context for the played arm\n",
    "        arm_context = np.expand_dims(np.transpose(context[(arm_idx*10):(arm_idx*10)+10]),axis=1)\n",
    "        \n",
    "        # update state of the played arm\n",
    "        self.B = self.B + np.dot(arm_context,np.transpose(arm_context))\n",
    "        self.f = self.f + arm_context*reward\n",
    "        self.mu_hat = np.dot(inv(self.B),self.f)"
   ]
  },
  {
   "cell_type": "code",
   "execution_count": 54,
   "metadata": {
    "colab": {
     "base_uri": "https://localhost:8080/",
     "height": 35
    },
    "colab_type": "code",
    "id": "yezaM_09DFxp",
    "outputId": "82e9e44a-3542-409c-94f0-887b96d8f5db"
   },
   "outputs": [
    {
     "name": "stdout",
     "output_type": "stream",
     "text": [
      "LinThompson average reward 0.35625\n"
     ]
    }
   ],
   "source": [
    "mab = LinThompson(10, 10, 1.0)\n",
    "results_LinThompson = offlineEvaluate(mab, arms, rewards, contexts, 800)\n",
    "print('LinThompson average reward', np.mean(results_LinThompson))"
   ]
  },
  {
   "cell_type": "markdown",
   "metadata": {
    "colab_type": "text",
    "id": "xawY_20CDFxr"
   },
   "source": [
    "## 6. Evaluation\n",
    "### 6.A."
   ]
  },
  {
   "cell_type": "code",
   "execution_count": 55,
   "metadata": {
    "colab": {
     "base_uri": "https://localhost:8080/",
     "height": 488
    },
    "colab_type": "code",
    "id": "nbQK9D5XDFxs",
    "outputId": "3d622bb2-17fc-4cbd-a95f-1a8803681f3a"
   },
   "outputs": [
    {
     "data": {
      "image/png": "[encoded data removed]",
      "text/plain": [
       "<Figure size 768x512 with 1 Axes>"
      ]
     },
     "metadata": {
      "needs_background": "light"
     },
     "output_type": "display_data"
    }
   ],
   "source": [
    "# setting figure parameters\n",
    "FIGURE_RESOLUTION = 128\n",
    "plt.rcParams['figure.dpi'] = FIGURE_RESOLUTION\n",
    "\n",
    "# Evaluation function for plot\n",
    "\n",
    "def evaluation(T, params):\n",
    "    # initilize evaluation parameters\n",
    "    eps_greedy_cumulative = [0] * T\n",
    "    ucb_cumulative = [0] * T\n",
    "    beta_thompson_cumulative = [0] * T\n",
    "    linUCB_cumulative = [0] * T\n",
    "    linThompson_cumulative = [0] * T\n",
    "    \n",
    "    # Run offline evaluation for algorithms\n",
    "    # EpsilonGreedy\n",
    "    mab = EpsGreedy(10, params['eps_greedy'])\n",
    "    results_EpsGreedy = offlineEvaluate(mab, arms, rewards, contexts, T)\n",
    "    # UCB\n",
    "    mab = UCB(10, params['ucb'])\n",
    "    results_UCB = offlineEvaluate(mab, arms, rewards, contexts, T)\n",
    "    # BetaThompson\n",
    "    mab = BetaThompson(10, params['beta_thompson'][0], params['beta_thompson'][1])\n",
    "    results_BetaThompson = offlineEvaluate(mab, arms, rewards, contexts, T)\n",
    "    # LinUCB\n",
    "    mab = LinUCB(10, 10, params['lin_ucb'])\n",
    "    results_LinUCB = offlineEvaluate(mab, arms, rewards, contexts, T)\n",
    "    # LinThompson\n",
    "    mab = LinThompson(10, 10, params['lin_thompson'])\n",
    "    results_LinThompson = offlineEvaluate(mab, arms, rewards, contexts, T)\n",
    "\n",
    "    # Get cumulative reward per round\n",
    "    for t in range(1,T):\n",
    "        eps_greedy_cumulative[t] = eps_greedy_cumulative[t-1] + results_EpsGreedy[t-1]\n",
    "        ucb_cumulative[t] = ucb_cumulative[t-1] + results_UCB[t-1]\n",
    "        beta_thompson_cumulative[t] = beta_thompson_cumulative[t-1] + results_BetaThompson[t-1]\n",
    "        linUCB_cumulative[t] = linUCB_cumulative[t-1] + results_LinUCB[t-1]\n",
    "        linThompson_cumulative[t] = linThompson_cumulative[t-1] + results_LinThompson[t-1]\n",
    "\n",
    "    # plot cumulative reward for algorithms\n",
    "    t = np.arange(T)\n",
    "    plt.plot(t, eps_greedy_cumulative)\n",
    "    plt.plot(t, ucb_cumulative)\n",
    "    plt.plot(t, beta_thompson_cumulative)\n",
    "    plt.plot(t, linUCB_cumulative)\n",
    "    plt.plot(t, linThompson_cumulative)\n",
    "    plt.legend(['EPSGreedy', 'UCB', 'BetaThompson', 'LinUCB', 'LinThompson'], loc='upper left')\n",
    "    plt.xlabel('Rounds')\n",
    "    plt.ylabel('Cumulative Reward')\n",
    "    plt.show()\n",
    "    \n",
    "# Evaluating algorithms for 800 rounds with provided hyperparameters\n",
    "evaluation(T=800,params={'eps_greedy':0.05, 'ucb':1.0, 'beta_thompson':[1.0,1.0], 'lin_ucb':1.0, 'lin_thompson':1.0})"
   ]
  },
  {
   "cell_type": "markdown",
   "metadata": {
    "colab_type": "text",
    "id": "Qig1dY0nDFxv"
   },
   "source": [
    "### 6.B."
   ]
  },
  {
   "cell_type": "markdown",
   "metadata": {
    "colab_type": "text",
    "id": "Le4XqqasoT6t"
   },
   "source": [
    "In order to optimise hyperparameters, `GridSearchMAB` class is implemented which can take any of the above `MAB` based classes with 1 hyperparameter. So, this class will not support `BetaThompson` directly, but it can be enhanced easily.\n",
    "\n",
    "`GridSearchMAB` is included with `strategy` parameter which can be used to include any grid-search strategy that is compatible with our MAB classes. Currently, it is implemented with basic naive grid-search strategy to find the most optimised hyperparameter:\n",
    "\n",
    "- `Naive strategy`: In this strategy, `GridSearchMAB` will initilize `MAB` class with provided grid parameters which includes a range for target hyperparameter. We can then evaluate parameters provided in the range sequentially on the scoring function by keeping track of the results and corresponding mean score. Finally, we can get the best parameter from the range based on the maximum mean score.\n",
    "\n",
    "This strategy is implemented in the class below, followed by results of LinUCB and LinThompson."
   ]
  },
  {
   "cell_type": "code",
   "execution_count": 56,
   "metadata": {
    "colab": {},
    "colab_type": "code",
    "id": "ZmAY6Y1WUHXL"
   },
   "outputs": [],
   "source": [
    "class GridSearchMAB:\n",
    "  \n",
    "    def __init__(self, mab, param_grid, scoring, strategy='naive', verbose=0):\n",
    "        # initilize gridsearch parameters\n",
    "        self.mab = mab\n",
    "        self.param_grid = param_grid\n",
    "        self.scoring = scoring\n",
    "        self.verbose = verbose\n",
    "        self.strategy = strategy\n",
    "        \n",
    "        # initilize gridsearch state\n",
    "        self.results_ = {'mean_score':[],'evaluate_results':[],'params':[]}\n",
    "        self.best_param_ = None\n",
    "        self.best_score_ = None\n",
    "      \n",
    "    def fit(self,arms,rewards,contexts=None):\n",
    "        # fit data on the basis of provided strategy\n",
    "        if self.strategy == 'naive':\n",
    "            self.naive_strategy(arms,rewards,contexts)\n",
    "           \n",
    "    def naive_strategy(self,arms,rewards,contexts=None):\n",
    "        # get provided parameters\n",
    "        prange = self.param_grid['param_range']\n",
    "        narms = self.param_grid['narms']\n",
    "        ndims = self.param_grid['ndims']\n",
    "        rounds = self.param_grid['rounds']\n",
    "        for param in prange:\n",
    "            \n",
    "            # making it compatible with other MABs (except BetaThompson)\n",
    "            if ndims is not None:\n",
    "                mabobj = self.mab(narms,ndims,float(param))\n",
    "            else:\n",
    "                mabobj = self.mab(narms,float(param))\n",
    "            \n",
    "            # evaluate mab on provided scoring function\n",
    "            result = self.scoring(mabobj, arms, rewards, contexts, rounds)\n",
    "            \n",
    "            # store results in state\n",
    "            self.results_['params'].append(param)\n",
    "            self.results_['evaluate_results'].append(result)\n",
    "            mean_score = np.mean(result)\n",
    "            self.results_['mean_score'].append(mean_score)\n",
    "            \n",
    "            # message printing if required\n",
    "            if self.verbose == 1:\n",
    "              print('param: '+str(param)+' mean_score: '+str(mean_score))\n",
    "        \n",
    "        # get best parameter and score\n",
    "        np_score = np.array(self.results_['mean_score'])\n",
    "        self.best_score_ = np.max(np_score)\n",
    "        self.best_param_ = float(prange[np.argmax(np_score)])"
   ]
  },
  {
   "cell_type": "code",
   "execution_count": 57,
   "metadata": {
    "colab": {
     "base_uri": "https://localhost:8080/",
     "height": 397
    },
    "colab_type": "code",
    "id": "dAYX1oYtbRee",
    "outputId": "d391a9be-4247-43ee-f292-2af7afac4da8"
   },
   "outputs": [
    {
     "name": "stdout",
     "output_type": "stream",
     "text": [
      "param: 1e-05 mean_score: 0.64625\n",
      "param: 2.06913808111479e-05 mean_score: 0.68\n",
      "param: 4.281332398719396e-05 mean_score: 0.65625\n",
      "param: 8.858667904100833e-05 mean_score: 0.67\n",
      "param: 0.00018329807108324357 mean_score: 0.665\n",
      "param: 0.000379269019073225 mean_score: 0.69625\n",
      "param: 0.0007847599703514606 mean_score: 0.71375\n",
      "param: 0.001623776739188721 mean_score: 0.7225\n",
      "param: 0.003359818286283781 mean_score: 0.72875\n",
      "param: 0.0069519279617756054 mean_score: 0.655\n",
      "param: 0.01438449888287663 mean_score: 0.74125\n",
      "param: 0.029763514416313162 mean_score: 0.715\n",
      "param: 0.06158482110660261 mean_score: 0.7075\n",
      "param: 0.1274274985703132 mean_score: 0.68625\n",
      "param: 0.26366508987303555 mean_score: 0.64625\n",
      "param: 0.5455594781168515 mean_score: 0.6175\n",
      "param: 1.1288378916846884 mean_score: 0.4875\n",
      "param: 2.3357214690901213 mean_score: 0.3075\n",
      "param: 4.832930238571752 mean_score: 0.1875\n",
      "param: 10.0 mean_score: 0.1225\n",
      "\n",
      "The best parameter is 0.01438 with a score of 0.7412\n"
     ]
    }
   ],
   "source": [
    "# Naive GridSearch strategy with LinUCB to find alpha\n",
    "\n",
    "# generate 20 numbers for alpha between 10^-5 to 10^1\n",
    "alphas = np.logspace(-5,1,20)\n",
    "\n",
    "# set grid parameters with alphas\n",
    "grid_parameters = {'narms': 10, 'ndims': 10, 'param_range': alphas,'rounds': 800}\n",
    "\n",
    "# create gridsearch object with strategy and scoring function\n",
    "grid_linucb = GridSearchMAB(mab=LinUCB, param_grid=grid_parameters, scoring=offlineEvaluate, strategy='naive',verbose=1)\n",
    "\n",
    "# run gridsearch on provided data\n",
    "grid_linucb.fit(arms,rewards,contexts)\n",
    "\n",
    "# best alpha for LinUCB\n",
    "print(\"\\nThe best parameter is {0.best_param_:.4g} with a score of {0.best_score_:.4g}\".format(grid_linucb))"
   ]
  },
  {
   "cell_type": "code",
   "execution_count": 58,
   "metadata": {
    "colab": {
     "base_uri": "https://localhost:8080/",
     "height": 418
    },
    "colab_type": "code",
    "id": "zumGhffqOiHQ",
    "outputId": "c5afad64-939c-4384-e3b6-5b7f9d81fae6"
   },
   "outputs": [
    {
     "data": {
      "image/png": "[encoded data removed]",
      "text/plain": [
       "<Figure size 1280x384 with 2 Axes>"
      ]
     },
     "metadata": {
      "needs_background": "light"
     },
     "output_type": "display_data"
    }
   ],
   "source": [
    "# plotting gridsearch results\n",
    "fig, ax = plt.subplots(1, 2, figsize=(10,3), squeeze=False)\n",
    "plt.subplot(1,2,1)\n",
    "plt.plot(grid_linucb.results_['params'][0:10],grid_linucb.results_['mean_score'][0:10])\n",
    "plt.title('First 10 alpha')\n",
    "plt.xlabel('LinUCB $alpha$')\n",
    "plt.ylabel('Average reward')\n",
    "plt.subplot(1,2,2)\n",
    "plt.plot(grid_linucb.results_['params'],grid_linucb.results_['mean_score'])\n",
    "plt.title('All alpha')\n",
    "plt.xlabel('LinUCB $alpha$')\n",
    "plt.ylabel('Average reward')\n",
    "plt.show()"
   ]
  },
  {
   "cell_type": "markdown",
   "metadata": {
    "colab_type": "text",
    "id": "B2TzFwPPTape"
   },
   "source": [
    "Similarly, we can perform gridsearch for LinThompson using same `GridSearchMAB` class."
   ]
  },
  {
   "cell_type": "code",
   "execution_count": 59,
   "metadata": {
    "colab": {
     "base_uri": "https://localhost:8080/",
     "height": 397
    },
    "colab_type": "code",
    "id": "xyGIDQP1edOs",
    "outputId": "6cb9ab8e-abce-4795-bc69-e2c598c96966"
   },
   "outputs": [
    {
     "name": "stdout",
     "output_type": "stream",
     "text": [
      "param: 1e-05 mean_score: 0.45625\n",
      "param: 2.06913808111479e-05 mean_score: 0.44375\n",
      "param: 4.281332398719396e-05 mean_score: 0.4325\n",
      "param: 8.858667904100833e-05 mean_score: 0.43125\n",
      "param: 0.00018329807108324357 mean_score: 0.42125\n",
      "param: 0.000379269019073225 mean_score: 0.44875\n",
      "param: 0.0007847599703514606 mean_score: 0.44\n",
      "param: 0.001623776739188721 mean_score: 0.42875\n",
      "param: 0.003359818286283781 mean_score: 0.425\n",
      "param: 0.0069519279617756054 mean_score: 0.415\n",
      "param: 0.01438449888287663 mean_score: 0.43375\n",
      "param: 0.029763514416313162 mean_score: 0.41875\n",
      "param: 0.06158482110660261 mean_score: 0.41375\n",
      "param: 0.1274274985703132 mean_score: 0.435\n",
      "param: 0.26366508987303555 mean_score: 0.48625\n",
      "param: 0.5455594781168515 mean_score: 0.37125\n",
      "param: 1.1288378916846884 mean_score: 0.30125\n",
      "param: 2.3357214690901213 mean_score: 0.26125\n",
      "param: 4.832930238571752 mean_score: 0.09\n",
      "param: 10.0 mean_score: 0.2075\n",
      "\n",
      "The best parameter is 0.2637 with a score of 0.4863\n"
     ]
    }
   ],
   "source": [
    "# Naive GridSearch strategy with LinThompson to find hyperparameter v\n",
    "\n",
    "# generate 20 numbers for alpha between 10^-5 to 10^1\n",
    "vparams = np.logspace(-5,1,20)\n",
    "\n",
    "# set grid parameters with alphas\n",
    "grid_parameters = {'narms': 10, 'ndims': 10, 'param_range': vparams,'rounds': 800}\n",
    "\n",
    "# create gridsearch object with strategy and scoring function\n",
    "grid_linthompson = GridSearchMAB(mab=LinThompson, param_grid=grid_parameters, scoring=offlineEvaluate, strategy='naive',verbose=1)\n",
    "\n",
    "# run gridsearch on provided data\n",
    "grid_linthompson.fit(arms,rewards,contexts)\n",
    "\n",
    "# best v for LinThompson\n",
    "print(\"\\nThe best parameter is {0.best_param_:.4g} with a score of {0.best_score_:.4g}\".format(grid_linthompson))"
   ]
  },
  {
   "cell_type": "code",
   "execution_count": 60,
   "metadata": {
    "colab": {
     "base_uri": "https://localhost:8080/",
     "height": 420
    },
    "colab_type": "code",
    "id": "u0fy3JfdUz8k",
    "outputId": "2f5453d9-aba1-4774-aa6c-15153d36352e"
   },
   "outputs": [
    {
     "data": {
      "image/png": "[encoded data removed]",
      "text/plain": [
       "<Figure size 1280x384 with 2 Axes>"
      ]
     },
     "metadata": {
      "needs_background": "light"
     },
     "output_type": "display_data"
    }
   ],
   "source": [
    "# plotting gridsearch results\n",
    "fig, ax = plt.subplots(1, 2, figsize=(10,3), squeeze=False)\n",
    "plt.subplot(1,2,1)\n",
    "plt.plot(grid_linthompson.results_['params'][0:10],grid_linthompson.results_['mean_score'][0:10])\n",
    "plt.title('First 10 $v$ params')\n",
    "plt.xlabel('LinThompson $v$')\n",
    "plt.ylabel('Average reward')\n",
    "plt.subplot(1,2,2)\n",
    "plt.plot(grid_linthompson.results_['params'],grid_linthompson.results_['mean_score'])\n",
    "plt.title('All $v$ params')\n",
    "plt.xlabel('LinThompson $v$')\n",
    "plt.ylabel('Average reward')\n",
    "plt.show()"
   ]
  },
  {
   "cell_type": "markdown",
   "metadata": {
    "colab_type": "text",
    "id": "piCXvQRjbctX"
   },
   "source": [
    "Moreover, this class is flexible enough to run GridSearch strategies to find the most optimised hyperparameter for Epsilon Greedy and UCB MAB implementations. It can be enhanced easily to support MAB algorithms with more than 1 hyperparameter."
   ]
  },
  {
   "cell_type": "code",
   "execution_count": 61,
   "metadata": {
    "colab": {
     "base_uri": "https://localhost:8080/",
     "height": 35
    },
    "colab_type": "code",
    "id": "xL2auv1Eg-pN",
    "outputId": "bd04f429-4779-4a3d-9fd8-2cdcebcefa75"
   },
   "outputs": [
    {
     "name": "stdout",
     "output_type": "stream",
     "text": [
      "The best parameter is 0.02976 with a score of 0.2625\n"
     ]
    }
   ],
   "source": [
    "# Gridsearch for UCB\n",
    "rhos = np.logspace(-5,1,20)\n",
    "param_grid = {'narms': 10, 'ndims': None, 'param_range': rhos, 'rounds': 800}\n",
    "grid_ucb = GridSearchMAB(UCB, param_grid, offlineEvaluate, strategy='naive', verbose=0)\n",
    "grid_ucb.fit(arms,rewards,contexts)\n",
    "print(\"The best parameter is {0.best_param_:.4g} with a score of {0.best_score_:.4g}\".format(grid_ucb))"
   ]
  },
  {
   "cell_type": "code",
   "execution_count": 62,
   "metadata": {
    "colab": {
     "base_uri": "https://localhost:8080/",
     "height": 35
    },
    "colab_type": "code",
    "id": "6sPKdXxYcL9f",
    "outputId": "6576b120-89db-4920-8862-7f32c332a470"
   },
   "outputs": [
    {
     "name": "stdout",
     "output_type": "stream",
     "text": [
      "The best parameter is 0.1624 with a score of 0.1462\n"
     ]
    }
   ],
   "source": [
    "# Gridsearch for EpsGreedy\n",
    "eps = np.logspace(-5,0,20)\n",
    "param_grid = {'narms': 10, 'ndims': None, 'param_range': eps, 'rounds': 800}\n",
    "grid_epsgreedy = GridSearchMAB(EpsGreedy, param_grid, offlineEvaluate, strategy='naive', verbose=0)\n",
    "grid_epsgreedy.fit(arms,rewards,contexts)\n",
    "print(\"The best parameter is {0.best_param_:.4g} with a score of {0.best_score_:.4g}\".format(grid_epsgreedy))"
   ]
  },
  {
   "cell_type": "markdown",
   "metadata": {
    "colab_type": "text",
    "id": "EGskwJuPbbG_"
   },
   "source": [
    "Finally, we can plot the evaluation again with the optimised hyperparameters for each algorithm as shown below"
   ]
  },
  {
   "cell_type": "code",
   "execution_count": 63,
   "metadata": {
    "colab": {
     "base_uri": "https://localhost:8080/",
     "height": 488
    },
    "colab_type": "code",
    "id": "V8lHdJDecrfg",
    "outputId": "690d0ccc-2ce4-47d9-9aee-c05243f04e24"
   },
   "outputs": [
    {
     "data": {
      "image/png": "[encoded data removed]",
      "text/plain": [
       "<Figure size 768x512 with 1 Axes>"
      ]
     },
     "metadata": {
      "needs_background": "light"
     },
     "output_type": "display_data"
    }
   ],
   "source": [
    "# Evaluating algorithms for 800 rounds with optimised hyperparameters\n",
    "evaluation(T=800,params={'eps_greedy':grid_epsgreedy.best_param_, 'ucb':grid_ucb.best_param_, 'beta_thompson':[1.0,1.0], 'lin_ucb':grid_linucb.best_param_, 'lin_thompson':grid_linthompson.best_param_})"
   ]
  }
 ],
 "metadata": {
  "colab": {
   "collapsed_sections": [],
   "name": "abhsharma_drive.ipynb",
   "provenance": []
  },
  "kernelspec": {
   "display_name": "Python 3",
   "language": "python",
   "name": "python3"
  },
  "language_info": {
   "codemirror_mode": {
    "name": "ipython",
    "version": 3
   },
   "file_extension": ".py",
   "mimetype": "text/x-python",
   "name": "python",
   "nbconvert_exporter": "python",
   "pygments_lexer": "ipython3",
   "version": "3.7.3"
  }
 },
 "nbformat": 4,
 "nbformat_minor": 4
}
